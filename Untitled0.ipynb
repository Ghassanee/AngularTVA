{
  "nbformat": 4,
  "nbformat_minor": 0,
  "metadata": {
    "colab": {
      "name": "Untitled0.ipynb",
      "provenance": [],
      "collapsed_sections": [],
      "authorship_tag": "ABX9TyM3jsyjjczDTnouh2IINLEL",
      "include_colab_link": true
    },
    "kernelspec": {
      "name": "python3",
      "display_name": "Python 3"
    }
  },
  "cells": [
    {
      "cell_type": "markdown",
      "metadata": {
        "id": "view-in-github",
        "colab_type": "text"
      },
      "source": [
        "<a href=\"https://colab.research.google.com/github/ghassane20a/AngulaireTVA/blob/master/Untitled0.ipynb\" target=\"_parent\"><img src=\"https://colab.research.google.com/assets/colab-badge.svg\" alt=\"Open In Colab\"/></a>"
      ]
    },
    {
      "cell_type": "code",
      "metadata": {
        "id": "5yJhETRKVJC1",
        "colab_type": "code",
        "colab": {
          "base_uri": "https://localhost:8080/",
          "height": 34
        },
        "outputId": "5cd887d0-e3ec-4d47-9227-cb1f97478d0d"
      },
      "source": [
        "!pip install conda"
      ],
      "execution_count": 6,
      "outputs": [
        {
          "output_type": "stream",
          "text": [
            "/bin/bash: conda: command not found\n"
          ],
          "name": "stdout"
        }
      ]
    },
    {
      "cell_type": "code",
      "metadata": {
        "id": "TnbKIVA1yW7I",
        "colab_type": "code",
        "colab": {}
      },
      "source": [
        "c"
      ],
      "execution_count": 0,
      "outputs": []
    },
    {
      "cell_type": "code",
      "metadata": {
        "id": "YAlgMRk38dw4",
        "colab_type": "code",
        "colab": {
          "base_uri": "https://localhost:8080/",
          "height": 486
        },
        "outputId": "87a05820-c11f-4e31-dbc6-f084c6efd657"
      },
      "source": [
        "!conda activate icpr2020"
      ],
      "execution_count": 26,
      "outputs": [
        {
          "output_type": "stream",
          "text": [
            "\n",
            "CommandNotFoundError: Your shell has not been properly configured to use 'conda activate'.\n",
            "If your shell is Bash or a Bourne variant, enable conda for the current user with\n",
            "\n",
            "    $ echo \". /usr/local/etc/profile.d/conda.sh\" >> ~/.bashrc\n",
            "\n",
            "or, for all users, enable conda with\n",
            "\n",
            "    $ sudo ln -s /usr/local/etc/profile.d/conda.sh /etc/profile.d/conda.sh\n",
            "\n",
            "The options above will permanently enable the 'conda' command, but they do NOT\n",
            "put conda's base (root) environment on PATH.  To do so, run\n",
            "\n",
            "    $ conda activate\n",
            "\n",
            "in your terminal, or to put the base environment on PATH permanently, run\n",
            "\n",
            "    $ echo \"conda activate\" >> ~/.bashrc\n",
            "\n",
            "Previous to conda 4.4, the recommended way to activate conda was to modify PATH in\n",
            "your ~/.bashrc file.  You should manually remove the line that looks like\n",
            "\n",
            "    export PATH=\"/usr/local/bin:$PATH\"\n",
            "\n",
            "^^^ The above line should NO LONGER be in your ~/.bashrc file! ^^^\n",
            "\n",
            "\n"
          ],
          "name": "stdout"
        }
      ]
    },
    {
      "cell_type": "code",
      "metadata": {
        "id": "rF4wEoFlBzfI",
        "colab_type": "code",
        "colab": {
          "base_uri": "https://localhost:8080/",
          "height": 625
        },
        "outputId": "d23bffb5-c059-4d0e-d762-8a72d3f8d110"
      },
      "source": [
        "!./scripts/make_dataset.sh"
      ],
      "execution_count": 43,
      "outputs": [
        {
          "output_type": "stream",
          "text": [
            "\n",
            "-------------------------------------------------\n",
            "| Index DFDC dataset                            |\n",
            "-------------------------------------------------\n",
            "usage: index_dfdc.py [-h] --source SOURCE [--videodataset VIDEODATASET]\n",
            "                     [--batch BATCH]\n",
            "index_dfdc.py: error: argument --source: expected one argument\n",
            "\n",
            "-------------------------------------------------\n",
            "| Index FF dataset                              |\n",
            "-------------------------------------------------\n",
            "usage: index_ffpp.py [-h] [--source SOURCE] [--videodataset VIDEODATASET]\n",
            "index_ffpp.py: error: argument --source: expected one argument\n",
            "\n",
            "-------------------------------------------------\n",
            "| Extract faces from DFDC                        |\n",
            "-------------------------------------------------\n",
            "usage: extract_faces.py [-h] --source SOURCE [--videodf VIDEODF] --facesfolder\n",
            "                        FACESFOLDER --facesdf FACESDF --checkpoint CHECKPOINT\n",
            "                        [--fpv FPV] [--device DEVICE] [--collateonly]\n",
            "                        [--noindex] [--batch BATCH] [--threads THREADS]\n",
            "                        [--offset OFFSET] [--num NUM] [--lazycheck]\n",
            "                        [--deepcheck]\n",
            "extract_faces.py: error: argument --source: expected one argument\n",
            "\n",
            "-------------------------------------------------\n",
            "| Extract faces from FF                         |\n",
            "-------------------------------------------------\n",
            "usage: extract_faces.py [-h] --source SOURCE [--videodf VIDEODF] --facesfolder\n",
            "                        FACESFOLDER --facesdf FACESDF --checkpoint CHECKPOINT\n",
            "                        [--fpv FPV] [--device DEVICE] [--collateonly]\n",
            "                        [--noindex] [--batch BATCH] [--threads THREADS]\n",
            "                        [--offset OFFSET] [--num NUM] [--lazycheck]\n",
            "                        [--deepcheck]\n",
            "extract_faces.py: error: argument --source: expected one argument\n"
          ],
          "name": "stdout"
        }
      ]
    }
  ]
}